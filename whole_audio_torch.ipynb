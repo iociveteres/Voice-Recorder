{
  "cells": [
    {
      "cell_type": "code",
      "execution_count": 118,
      "metadata": {
        "collapsed": false
      },
      "outputs": [],
      "source": [
        "%matplotlib inline"
      ]
    },
    {
      "cell_type": "code",
      "execution_count": 119,
      "metadata": {
        "collapsed": false
      },
      "outputs": [],
      "source": [
        "import torch\n",
        "import torch.nn as nn\n",
        "import torch.nn.functional as F\n",
        "import torch.optim as optim\n",
        "import torchaudio\n",
        "import sys\n",
        "\n",
        "import matplotlib.pyplot as plt\n",
        "import IPython.display as ipd\n",
        "\n",
        "from tqdm.auto import tqdm"
      ]
    },
    {
      "cell_type": "code",
      "execution_count": 120,
      "metadata": {},
      "outputs": [
        {
          "name": "stdout",
          "output_type": "stream",
          "text": [
            "cpu\n"
          ]
        }
      ],
      "source": [
        "device = torch.device(\"cuda\" if torch.cuda.is_available() else \"cpu\")\n",
        "print(device)"
      ]
    },
    {
      "cell_type": "code",
      "execution_count": 121,
      "metadata": {},
      "outputs": [],
      "source": [
        "import os\n",
        "from typing import Tuple\n",
        "import torchaudio\n",
        "from torch.utils.data import Dataset\n",
        "from torch import Tensor\n",
        "from pathlib import Path\n",
        "\n",
        "def load_audio_item(filepath: str, path: str, label_name: str) -> Tuple[Tensor, int, str, str]:\n",
        "    relpath = os.path.relpath(filepath, path)\n",
        "    label, filename = os.path.split(relpath)\n",
        "    if label_name is not None:\n",
        "        label = label_name\n",
        "    waveform, sample_rate = torchaudio.load(filepath, normalize = True, channels_first = True)\n",
        "    return waveform, sample_rate, label, filename\n",
        "\n",
        "class AudioFolder(Dataset):\n",
        "    \"\"\"Create a Dataset from Local Files.\n",
        "    Args:\n",
        "        path (str): Path to the directory where the dataset is found or downloaded.\n",
        "        suffix (str) : Audio file type, defaulted to \".WAV\".\n",
        "        pattern (str) : Find pathnames matching this pattern. Defaulted to \"*/*\" \n",
        "        new_sample_rate (int) : Resample audio to new sample rate specified.\n",
        "        spectrogram_transform (bool): If `True` transform the audio waveform and returns it  \n",
        "        transformed into a spectrogram tensor.\n",
        "        label (str): The label is pulled from the folders in the path, this allows you to statically\n",
        "        define the label string.\n",
        "    \"\"\"\n",
        "\n",
        "\n",
        "    def __init__(\n",
        "            self,\n",
        "            path: str,\n",
        "            suffix: str = \".wav\",\n",
        "            pattern: str = \"*/*\",\n",
        "            new_sample_rate: int = None,\n",
        "            spectrogram_transform: bool = False,\n",
        "            label: str = None\n",
        "                    ):\n",
        "\n",
        "        self._path = path\n",
        "        self._spectrogram_transform = spectrogram_transform\n",
        "        self._new_sample_rate = new_sample_rate\n",
        "        self._label = label\n",
        "\n",
        "        walker = sorted(str(p) for p in Path(self._path).glob(f'{pattern}{suffix}'))\n",
        "        self._walker = list(walker)\n",
        "\n",
        "    def __getitem__(self, n: int) -> Tuple[Tensor, int, str, str]:\n",
        "        \"\"\"Load the n-th sample from the dataset.\n",
        "        Args:\n",
        "            n (int): The index of the file to be loaded\n",
        "        Returns:\n",
        "            tuple: ``(waveform, sample_rate, label, filename)``\n",
        "        \"\"\"\n",
        "        fileid = self._walker[n]\n",
        "\n",
        "        waveform, sample_rate, label, filename =  load_audio_item(fileid, self._path, self._label)\n",
        "\n",
        "        if self._new_sample_rate is not None:\n",
        "            waveform = torchaudio.transforms.Resample(sample_rate, self._new_sample_rate)(waveform)\n",
        "            sample_rate = self._new_sample_rate\n",
        "        if self._spectrogram_transform is True:\n",
        "           waveform = torchaudio.transforms.Spectrogram()(waveform)\n",
        "\n",
        "        return waveform, sample_rate, label, filename\n",
        "\n",
        "\n",
        "\n",
        "    def __len__(self) -> int:\n",
        "        return len(self._walker)"
      ]
    },
    {
      "cell_type": "code",
      "execution_count": 122,
      "metadata": {},
      "outputs": [],
      "source": [
        "db = AudioFolder(path='./records_by_classes/')"
      ]
    },
    {
      "cell_type": "code",
      "execution_count": 123,
      "metadata": {},
      "outputs": [],
      "source": [
        "train_set, test_set = torch.utils.data.random_split(db, [0.7, 0.3])"
      ]
    },
    {
      "cell_type": "code",
      "execution_count": 124,
      "metadata": {},
      "outputs": [
        {
          "name": "stdout",
          "output_type": "stream",
          "text": [
            "44\n"
          ]
        }
      ],
      "source": [
        "batch_size = 4\n",
        "train_loader = torch.utils.data.DataLoader(train_set, shuffle=True, num_workers=0, batch_size=batch_size)\n",
        "test_loader = torch.utils.data.DataLoader(test_set, shuffle=True, num_workers=0, batch_size=batch_size)\n",
        "test_len = len(test_set)\n",
        "print(test_len)"
      ]
    },
    {
      "cell_type": "code",
      "execution_count": 125,
      "metadata": {},
      "outputs": [],
      "source": [
        "def plot_waveform(waveform, sample_rate):\n",
        "    waveform = waveform.numpy()\n",
        "\n",
        "    num_channels, num_frames = waveform.shape\n",
        "    time_axis = torch.arange(0, num_frames) / sample_rate\n",
        "\n",
        "    figure, axes = plt.subplots(num_channels, 1)\n",
        "    if num_channels == 1:\n",
        "        axes = [axes]\n",
        "    for c in range(num_channels):\n",
        "        axes[c].plot(time_axis, waveform[c], linewidth=1)\n",
        "        axes[c].grid(True)\n",
        "        if num_channels > 1:\n",
        "            axes[c].set_ylabel(f\"Channel {c+1}\")\n",
        "    figure.suptitle(\"waveform\")\n",
        "    plt.show(block=False)"
      ]
    },
    {
      "cell_type": "code",
      "execution_count": 126,
      "metadata": {},
      "outputs": [
        {
          "data": {
            "image/png": "[encoded data removed]",
            "text/plain": [
              "<Figure size 640x480 with 1 Axes>"
            ]
          },
          "metadata": {},
          "output_type": "display_data"
        }
      ],
      "source": [
        "waveform, sample_rate, label, file_name = train_set[0]\n",
        "plot_waveform(waveform, sample_rate)"
      ]
    },
    {
      "cell_type": "code",
      "execution_count": 127,
      "metadata": {
        "collapsed": false
      },
      "outputs": [
        {
          "data": {
            "text/plain": [
              "['bad', 'good', 'neutral']"
            ]
          },
          "execution_count": 127,
          "metadata": {},
          "output_type": "execute_result"
        }
      ],
      "source": [
        "labels = sorted(list(set(datapoint[2] for datapoint in train_set)))\n",
        "labels"
      ]
    },
    {
      "cell_type": "code",
      "execution_count": 128,
      "metadata": {
        "collapsed": false
      },
      "outputs": [],
      "source": [
        "new_sample_rate = 8000\n",
        "transform = torchaudio.transforms.Resample(orig_freq=sample_rate, new_freq=new_sample_rate)\n",
        "transformed = transform(waveform)"
      ]
    },
    {
      "cell_type": "markdown",
      "metadata": {},
      "source": [
        "To turn a list of data point made of audio recordings and utterances\n",
        "into two batched tensors for the model, we implement a collate function\n",
        "which is used by the PyTorch DataLoader that allows us to iterate over a\n",
        "dataset by batches. Please see [the\n",
        "documentation](https://pytorch.org/docs/stable/data.html#working-with-collate-fn)_\n",
        "for more information about working with a collate function.\n",
        "\n",
        "In the collate function, we also apply the resampling, and the text\n",
        "encoding.\n",
        "\n",
        "\n"
      ]
    },
    {
      "cell_type": "code",
      "execution_count": 129,
      "metadata": {},
      "outputs": [],
      "source": [
        "def label_to_index(word):\n",
        "    # Return the position of the word in labels\n",
        "    return torch.tensor(labels.index(word))\n",
        "\n",
        "\n",
        "def index_to_label(index):\n",
        "    # Return the word corresponding to the index in labels\n",
        "    # This is the inverse of label_to_index\n",
        "    return labels[index]"
      ]
    },
    {
      "cell_type": "code",
      "execution_count": 130,
      "metadata": {},
      "outputs": [],
      "source": [
        "def pad_sequence(batch):\n",
        "    # Make all tensor in a batch the same length by padding with zeros\n",
        "    batch = [item.t() for item in batch]\n",
        "    batch = torch.nn.utils.rnn.pad_sequence(batch, batch_first=True, padding_value=0.)\n",
        "    return batch.permute(0, 2, 1)\n",
        "\n",
        "\n",
        "def collate_fn(batch):\n",
        "\n",
        "    # A data tuple has the form:\n",
        "    # waveform, sample_rate, label, speaker_id, utterance_number\n",
        "\n",
        "    tensors, targets = [], []\n",
        "\n",
        "    # Gather in lists, and encode labels as indices\n",
        "    for waveform, _, label, *_ in batch:\n",
        "        tensors += [waveform]\n",
        "        targets += [label_to_index(label)]\n",
        "\n",
        "    # Group the list of tensors into a batched tensor\n",
        "    tensors = pad_sequence(tensors)\n",
        "    targets = torch.stack(targets)\n",
        "\n",
        "    return tensors, targets\n",
        "\n",
        "batch_size = 4\n",
        "train_loader = torch.utils.data.DataLoader(\n",
        "    train_set, \n",
        "    shuffle=True, \n",
        "    num_workers=0, \n",
        "    collate_fn=collate_fn,\n",
        "    batch_size=batch_size)\n",
        "test_loader = torch.utils.data.DataLoader(\n",
        "    test_set, \n",
        "    shuffle=True, \n",
        "    num_workers=0, \n",
        "    collate_fn=collate_fn,\n",
        "    batch_size=batch_size)\n"
      ]
    },
    {
      "attachments": {},
      "cell_type": "markdown",
      "metadata": {},
      "source": [
        "## Network\n",
        "\n",
        "For this tutorial we will use a convolutional neural network to process\n",
        "the raw audio data. Usually more advanced transforms are applied to the\n",
        "audio data, however CNNs can be used to accurately process the raw data.\n",
        "The specific architecture is modeled after the M5 network architecture\n",
        "described in [this paper](https://arxiv.org/pdf/1610.00087.pdf)_. An\n",
        "important aspect of models processing raw audio data is the receptive\n",
        "field of their first layer’s filters. Model’s first filter is length\n",
        "80 so when processing audio sampled at 8kHz the receptive field is\n",
        "around 10ms (and at 4kHz, around 20 ms). This size is similar to speech\n",
        "processing applications that often use receptive fields ranging from\n",
        "20ms to 40ms.\n",
        "\n",
        "\n"
      ]
    },
    {
      "cell_type": "code",
      "execution_count": 131,
      "metadata": {
        "collapsed": false
      },
      "outputs": [
        {
          "name": "stdout",
          "output_type": "stream",
          "text": [
            "M5(\n",
            "  (conv1): Conv1d(1, 32, kernel_size=(80,), stride=(16,))\n",
            "  (bn1): BatchNorm1d(32, eps=1e-05, momentum=0.1, affine=True, track_running_stats=True)\n",
            "  (pool1): MaxPool1d(kernel_size=4, stride=4, padding=0, dilation=1, ceil_mode=False)\n",
            "  (conv2): Conv1d(32, 32, kernel_size=(3,), stride=(1,))\n",
            "  (bn2): BatchNorm1d(32, eps=1e-05, momentum=0.1, affine=True, track_running_stats=True)\n",
            "  (pool2): MaxPool1d(kernel_size=4, stride=4, padding=0, dilation=1, ceil_mode=False)\n",
            "  (conv3): Conv1d(32, 64, kernel_size=(3,), stride=(1,))\n",
            "  (bn3): BatchNorm1d(64, eps=1e-05, momentum=0.1, affine=True, track_running_stats=True)\n",
            "  (pool3): MaxPool1d(kernel_size=4, stride=4, padding=0, dilation=1, ceil_mode=False)\n",
            "  (conv4): Conv1d(64, 64, kernel_size=(3,), stride=(1,))\n",
            "  (bn4): BatchNorm1d(64, eps=1e-05, momentum=0.1, affine=True, track_running_stats=True)\n",
            "  (pool4): MaxPool1d(kernel_size=4, stride=4, padding=0, dilation=1, ceil_mode=False)\n",
            "  (fc1): Linear(in_features=64, out_features=3, bias=True)\n",
            ")\n",
            "Number of parameters: 24835\n"
          ]
        }
      ],
      "source": [
        "class M5(nn.Module):\n",
        "    def __init__(self, n_input=1, n_output=35, stride=16, n_channel=32):\n",
        "        super().__init__()\n",
        "        self.conv1 = nn.Conv1d(n_input, n_channel, kernel_size=80, stride=stride)\n",
        "        self.bn1 = nn.BatchNorm1d(n_channel)\n",
        "        self.pool1 = nn.MaxPool1d(4)\n",
        "        self.conv2 = nn.Conv1d(n_channel, n_channel, kernel_size=3)\n",
        "        self.bn2 = nn.BatchNorm1d(n_channel)\n",
        "        self.pool2 = nn.MaxPool1d(4)\n",
        "        self.conv3 = nn.Conv1d(n_channel, 2 * n_channel, kernel_size=3)\n",
        "        self.bn3 = nn.BatchNorm1d(2 * n_channel)\n",
        "        self.pool3 = nn.MaxPool1d(4)\n",
        "        self.conv4 = nn.Conv1d(2 * n_channel, 2 * n_channel, kernel_size=3)\n",
        "        self.bn4 = nn.BatchNorm1d(2 * n_channel)\n",
        "        self.pool4 = nn.MaxPool1d(4)\n",
        "        self.fc1 = nn.Linear(2 * n_channel, n_output)\n",
        "\n",
        "    def forward(self, x):\n",
        "        x = self.conv1(x)\n",
        "        x = F.relu(self.bn1(x))\n",
        "        x = self.pool1(x)\n",
        "        x = self.conv2(x)\n",
        "        x = F.relu(self.bn2(x))\n",
        "        x = self.pool2(x)\n",
        "        x = self.conv3(x)\n",
        "        x = F.relu(self.bn3(x))\n",
        "        x = self.pool3(x)\n",
        "        x = self.conv4(x)\n",
        "        x = F.relu(self.bn4(x))\n",
        "        x = self.pool4(x)\n",
        "        x = F.avg_pool1d(x, x.shape[-1])\n",
        "        x = x.permute(0, 2, 1)\n",
        "        x = self.fc1(x)\n",
        "        return F.log_softmax(x, dim=2)\n",
        "\n",
        "\n",
        "model = M5(n_input=transformed.shape[0], n_output=len(labels))\n",
        "model.to(device)\n",
        "print(model)\n",
        "\n",
        "\n",
        "def count_parameters(model):\n",
        "    return sum(p.numel() for p in model.parameters() if p.requires_grad)\n",
        "\n",
        "\n",
        "n = count_parameters(model)\n",
        "print(\"Number of parameters: %s\" % n)"
      ]
    },
    {
      "cell_type": "markdown",
      "metadata": {},
      "source": [
        "We will use the same optimization technique used in the paper, an Adam\n",
        "optimizer with weight decay set to 0.0001. At first, we will train with\n",
        "a learning rate of 0.01, but we will use a ``scheduler`` to decrease it\n",
        "to 0.001 during training after 20 epochs.\n",
        "\n",
        "\n"
      ]
    },
    {
      "cell_type": "code",
      "execution_count": 132,
      "metadata": {
        "collapsed": false
      },
      "outputs": [],
      "source": [
        "optimizer = optim.Adam(model.parameters(), lr=0.01, weight_decay=0.0001)\n",
        "scheduler = optim.lr_scheduler.StepLR(optimizer, step_size=20, gamma=0.1)  # reduce the learning after 20 epochs by a factor of 10"
      ]
    },
    {
      "attachments": {},
      "cell_type": "markdown",
      "metadata": {},
      "source": [
        "## Training and Testing"
      ]
    },
    {
      "cell_type": "code",
      "execution_count": 133,
      "metadata": {
        "collapsed": false
      },
      "outputs": [],
      "source": [
        "def train(model, epoch, log_interval):\n",
        "    model.train()\n",
        "    for batch_idx, (data, target, *_) in enumerate(train_loader):\n",
        "        data = data.to(device)\n",
        "        target = target.to(device)\n",
        "\n",
        "        # apply transform and model on whole batch directly on device\n",
        "        data = transform(data)\n",
        "        output = model(data)\n",
        "\n",
        "        # negative log-likelihood for a tensor of size (batch x 1 x n_output)\n",
        "        loss = F.nll_loss(output.squeeze(), target)\n",
        "\n",
        "        optimizer.zero_grad()\n",
        "        loss.backward()\n",
        "        optimizer.step()\n",
        "\n",
        "        # print training stats\n",
        "        if batch_idx % log_interval == 0:\n",
        "            print(f\"Train Epoch: {epoch} [{(batch_idx * len(data)):.2f}/{len(train_loader.dataset)} ({100. * batch_idx / len(train_loader):.0f}%)]\\tLoss: {loss.item():.6f}\")\n",
        "\n",
        "        # update progress bar\n",
        "        pbar.update(pbar_update)\n",
        "        # record loss\n",
        "        losses.append(loss.item())"
      ]
    },
    {
      "cell_type": "code",
      "execution_count": 134,
      "metadata": {
        "collapsed": false
      },
      "outputs": [],
      "source": [
        "def number_of_correct(pred, target):\n",
        "    # count number of correct predictions\n",
        "    return pred.squeeze().eq(target).sum().item()\n",
        "\n",
        "\n",
        "def get_likely_index(tensor):\n",
        "    # find most likely label index for each element in the batch\n",
        "    return tensor.argmax(dim=-1)\n",
        "\n",
        "\n",
        "def test(model, epoch):\n",
        "    model.eval()\n",
        "    correct = 0\n",
        "    for data, target in test_loader:\n",
        "\n",
        "        data = data.to(device)\n",
        "        target = target.to(device)\n",
        "\n",
        "        # apply transform and model on whole batch directly on device\n",
        "        data = transform(data)\n",
        "        output = model(data)\n",
        "\n",
        "        pred = get_likely_index(output)\n",
        "        correct += number_of_correct(pred, target)\n",
        "\n",
        "        # update progress bar\n",
        "        pbar.update(pbar_update)\n",
        "\n",
        "    print(f\"\\nTest Epoch: {epoch}\\tAccuracy: {correct}/{len(test_loader.dataset)} ({100. * correct / len(test_loader.dataset):.0f}%)\\n\")"
      ]
    },
    {
      "cell_type": "code",
      "execution_count": 135,
      "metadata": {
        "collapsed": false
      },
      "outputs": [
        {
          "data": {
            "application/vnd.jupyter.widget-view+json": {
              "model_id": "61d708a23155439d81b52cc7561a1d3f",
              "version_major": 2,
              "version_minor": 0
            },
            "text/plain": [
              "  0%|          | 0/20 [00:00<?, ?it/s]"
            ]
          },
          "metadata": {},
          "output_type": "display_data"
        },
        {
          "name": "stdout",
          "output_type": "stream",
          "text": [
            "Train Epoch: 1 [0.00/103 (0%)]\tLoss: 1.086939\n",
            "Train Epoch: 1 [80.00/103 (77%)]\tLoss: 1.389492\n",
            "\n",
            "Test Epoch: 1\tAccuracy: 4/44 (9%)\n",
            "\n",
            "Train Epoch: 2 [0.00/103 (0%)]\tLoss: 1.368403\n",
            "Train Epoch: 2 [80.00/103 (77%)]\tLoss: 0.663983\n",
            "\n",
            "Test Epoch: 2\tAccuracy: 11/44 (25%)\n",
            "\n",
            "Train Epoch: 3 [0.00/103 (0%)]\tLoss: 0.719489\n",
            "Train Epoch: 3 [80.00/103 (77%)]\tLoss: 1.002184\n",
            "\n",
            "Test Epoch: 3\tAccuracy: 31/44 (70%)\n",
            "\n",
            "Train Epoch: 4 [0.00/103 (0%)]\tLoss: 0.702458\n",
            "Train Epoch: 4 [80.00/103 (77%)]\tLoss: 0.966259\n",
            "\n",
            "Test Epoch: 4\tAccuracy: 37/44 (84%)\n",
            "\n",
            "Train Epoch: 5 [0.00/103 (0%)]\tLoss: 0.974293\n",
            "Train Epoch: 5 [80.00/103 (77%)]\tLoss: 0.611794\n",
            "\n",
            "Test Epoch: 5\tAccuracy: 32/44 (73%)\n",
            "\n",
            "Train Epoch: 6 [0.00/103 (0%)]\tLoss: 0.390246\n",
            "Train Epoch: 6 [80.00/103 (77%)]\tLoss: 0.743572\n",
            "\n",
            "Test Epoch: 6\tAccuracy: 17/44 (39%)\n",
            "\n",
            "Train Epoch: 7 [0.00/103 (0%)]\tLoss: 1.816904\n",
            "Train Epoch: 7 [80.00/103 (77%)]\tLoss: 0.816746\n",
            "\n",
            "Test Epoch: 7\tAccuracy: 33/44 (75%)\n",
            "\n",
            "Train Epoch: 8 [0.00/103 (0%)]\tLoss: 0.926304\n",
            "Train Epoch: 8 [80.00/103 (77%)]\tLoss: 0.671283\n",
            "\n",
            "Test Epoch: 8\tAccuracy: 25/44 (57%)\n",
            "\n",
            "Train Epoch: 9 [0.00/103 (0%)]\tLoss: 0.467380\n",
            "Train Epoch: 9 [80.00/103 (77%)]\tLoss: 1.419488\n",
            "\n",
            "Test Epoch: 9\tAccuracy: 35/44 (80%)\n",
            "\n",
            "Train Epoch: 10 [0.00/103 (0%)]\tLoss: 1.015052\n",
            "Train Epoch: 10 [80.00/103 (77%)]\tLoss: 0.741906\n",
            "\n",
            "Test Epoch: 10\tAccuracy: 36/44 (82%)\n",
            "\n",
            "Train Epoch: 11 [0.00/103 (0%)]\tLoss: 0.952309\n",
            "Train Epoch: 11 [80.00/103 (77%)]\tLoss: 0.616332\n",
            "\n",
            "Test Epoch: 11\tAccuracy: 10/44 (23%)\n",
            "\n",
            "Train Epoch: 12 [0.00/103 (0%)]\tLoss: 0.415392\n",
            "Train Epoch: 12 [80.00/103 (77%)]\tLoss: 0.531130\n",
            "\n",
            "Test Epoch: 12\tAccuracy: 32/44 (73%)\n",
            "\n",
            "Train Epoch: 13 [0.00/103 (0%)]\tLoss: 0.648876\n",
            "Train Epoch: 13 [80.00/103 (77%)]\tLoss: 0.609468\n",
            "\n",
            "Test Epoch: 13\tAccuracy: 34/44 (77%)\n",
            "\n",
            "Train Epoch: 14 [0.00/103 (0%)]\tLoss: 0.437402\n",
            "Train Epoch: 14 [80.00/103 (77%)]\tLoss: 1.111111\n",
            "\n",
            "Test Epoch: 14\tAccuracy: 18/44 (41%)\n",
            "\n",
            "Train Epoch: 15 [0.00/103 (0%)]\tLoss: 0.480413\n",
            "Train Epoch: 15 [80.00/103 (77%)]\tLoss: 0.733924\n",
            "\n",
            "Test Epoch: 15\tAccuracy: 37/44 (84%)\n",
            "\n",
            "Train Epoch: 16 [0.00/103 (0%)]\tLoss: 1.016949\n",
            "Train Epoch: 16 [80.00/103 (77%)]\tLoss: 0.908880\n",
            "\n",
            "Test Epoch: 16\tAccuracy: 7/44 (16%)\n",
            "\n",
            "Train Epoch: 17 [0.00/103 (0%)]\tLoss: 0.393415\n",
            "Train Epoch: 17 [80.00/103 (77%)]\tLoss: 0.673309\n",
            "\n",
            "Test Epoch: 17\tAccuracy: 6/44 (14%)\n",
            "\n",
            "Train Epoch: 18 [0.00/103 (0%)]\tLoss: 0.816565\n",
            "Train Epoch: 18 [80.00/103 (77%)]\tLoss: 0.762422\n",
            "\n",
            "Test Epoch: 18\tAccuracy: 20/44 (45%)\n",
            "\n",
            "Train Epoch: 19 [0.00/103 (0%)]\tLoss: 0.810346\n",
            "Train Epoch: 19 [80.00/103 (77%)]\tLoss: 0.660472\n",
            "\n",
            "Test Epoch: 19\tAccuracy: 12/44 (27%)\n",
            "\n",
            "Train Epoch: 20 [0.00/103 (0%)]\tLoss: 0.912575\n",
            "Train Epoch: 20 [80.00/103 (77%)]\tLoss: 0.687203\n",
            "\n",
            "Test Epoch: 20\tAccuracy: 36/44 (82%)\n",
            "\n"
          ]
        }
      ],
      "source": [
        "log_interval = 20\n",
        "n_epoch = 20\n",
        "\n",
        "pbar_update = 1 / (len(train_loader) + len(test_loader))\n",
        "losses = []\n",
        "\n",
        "# The transform needs to live on the same device as the model and the data.\n",
        "transform = transform.to(device)\n",
        "with tqdm(total=n_epoch) as pbar:\n",
        "    for epoch in range(1, n_epoch + 1):\n",
        "        train(model, epoch, log_interval)\n",
        "        test(model, epoch)\n",
        "        scheduler.step()\n",
        "\n",
        "# Let's plot the training loss versus the number of iteration.\n",
        "# plt.plot(losses);\n",
        "# plt.title(\"training loss\");"
      ]
    }
  ],
  "metadata": {
    "kernelspec": {
      "display_name": "Python 3",
      "language": "python",
      "name": "python3"
    },
    "language_info": {
      "codemirror_mode": {
        "name": "ipython",
        "version": 3
      },
      "file_extension": ".py",
      "mimetype": "text/x-python",
      "name": "python",
      "nbconvert_exporter": "python",
      "pygments_lexer": "ipython3",
      "version": "3.10.9"
    }
  },
  "nbformat": 4,
  "nbformat_minor": 0
}
