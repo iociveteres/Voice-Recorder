{
  "cells": [
    {
      "cell_type": "code",
      "execution_count": 2,
      "metadata": {
        "collapsed": false
      },
      "outputs": [],
      "source": [
        "%matplotlib inline"
      ]
    },
    {
      "cell_type": "code",
      "execution_count": 3,
      "metadata": {
        "collapsed": false
      },
      "outputs": [],
      "source": [
        "import pandas as pd\n",
        "import numpy as np\n",
        "\n",
        "import matplotlib.pyplot as plt\n",
        "from matplotlib.ticker import MaxNLocator\n",
        "\n",
        "from os import listdir\n",
        "from os.path import isfile, join"
      ]
    },
    {
      "cell_type": "code",
      "execution_count": 10,
      "metadata": {},
      "outputs": [
        {
          "data": {
            "text/plain": [
              "['neutral', 'good', 'bad']"
            ]
          },
          "execution_count": 10,
          "metadata": {},
          "output_type": "execute_result"
        }
      ],
      "source": [
        "file_name = './chunks/chunks.csv'\n",
        "df = pd.read_csv(file_name)\n",
        "\n",
        "dict = {0: 'bad', 1: 'neutral', 2: 'good'}\n",
        "df = df.replace({'label': dict})\n",
        "\n",
        "a = df['label'].value_counts()\n",
        "list(a.index)"
      ]
    },
    {
      "cell_type": "code",
      "execution_count": 11,
      "metadata": {},
      "outputs": [
        {
          "data": {
            "image/png": "[encoded data removed]",
            "text/plain": [
              "<Figure size 640x480 with 1 Axes>"
            ]
          },
          "metadata": {},
          "output_type": "display_data"
        }
      ],
      "source": [
        "import matplotlib.pyplot as plt; plt.rcdefaults()\n",
        "import numpy as np\n",
        "import matplotlib.pyplot as plt\n",
        "\n",
        "objects = list(a.index)\n",
        "y_pos = np.arange(len(objects))\n",
        "performance = list(a)\n",
        "\n",
        "plt.bar(y_pos, performance, align='center', alpha=0.5)\n",
        "plt.xticks(y_pos, objects)\n",
        "plt.ylabel('count')\n",
        "plt.title('condition')\n",
        "\n",
        "plt.show()"
      ]
    },
    {
      "cell_type": "code",
      "execution_count": 320,
      "metadata": {},
      "outputs": [],
      "source": [
        "from torch.utils.data import Dataset\n",
        "\n",
        "class transcription_dataset(Dataset):\n",
        " \n",
        "  def __init__(self,file_name):\n",
        "    file_name = './chunks/chunks.csv'\n",
        "    df = pd.read_csv(file_name)\n",
        "    df = df.drop('file_name', axis=1)\n",
        "    df = df.drop('drop_id', axis=1)\n",
        "    df['chunks'].replace('[]', np.nan, inplace=True)\n",
        "    df.dropna(subset=['chunks'], inplace=True)\n",
        "    df.chunks = df.chunks.apply(literal_eval)\n",
        "    df.reset_index(drop=True, inplace=True)\n",
        "\n",
        "    audio_max_length = 15000\n",
        "    x = df.label.values\n",
        "    y = df.iloc[:,1].values\n",
        "    \n",
        "    self.x_train = x\n",
        "    self.y_train = y\n",
        "    self.max_len = len(max(y, key=len))\n",
        " \n",
        "  def __len__(self):\n",
        "    return len(self.y_train)\n",
        "   \n",
        "  def __getitem__(self,idx):\n",
        "    return self.x_train[idx], self.y_train[idx]"
      ]
    },
    {
      "cell_type": "code",
      "execution_count": 321,
      "metadata": {},
      "outputs": [],
      "source": [
        "db = transcription_dataset('./chunks/chunks.csv')"
      ]
    },
    {
      "cell_type": "code",
      "execution_count": 322,
      "metadata": {},
      "outputs": [],
      "source": [
        "train_set, test_set = torch.utils.data.random_split(db, [0.7, 0.3])"
      ]
    },
    {
      "cell_type": "code",
      "execution_count": 323,
      "metadata": {},
      "outputs": [],
      "source": [
        "train_dataset, test_dataset  = train_set, test_set\n",
        "target_classes = [\"bad\", \"neutral\", \"good\"]"
      ]
    },
    {
      "cell_type": "code",
      "execution_count": 324,
      "metadata": {},
      "outputs": [
        {
          "data": {
            "text/plain": [
              "(1, [1644, 3258, 5702, 10094, 10561, 11343, 14493, 15000])"
            ]
          },
          "execution_count": 324,
          "metadata": {},
          "output_type": "execute_result"
        }
      ],
      "source": [
        "train_dataset[3]"
      ]
    },
    {
      "cell_type": "code",
      "execution_count": 325,
      "metadata": {},
      "outputs": [],
      "source": [
        "from torch.utils.data import DataLoader\n",
        "from torch.nn.utils.rnn import pad_sequence\n",
        "\n",
        "def collate_fn_padd(batch):\n",
        "    Y, X = list(zip(*batch))\n",
        "    X = list(X)\n",
        "    padded = torch.tensor([row + [0] * (db.max_len - len(row)) for row in X])\n",
        "    \n",
        "    return torch.tensor(padded, dtype=torch.float32), torch.tensor(Y)\n",
        "\n",
        "batch_size = 8\n",
        "train_loader = DataLoader(train_dataset, batch_size=batch_size, collate_fn=collate_fn_padd, shuffle=True)\n",
        "test_loader  = DataLoader(test_dataset , batch_size=batch_size, collate_fn=collate_fn_padd)"
      ]
    },
    {
      "attachments": {},
      "cell_type": "markdown",
      "metadata": {},
      "source": [
        "## Model"
      ]
    },
    {
      "cell_type": "code",
      "execution_count": 326,
      "metadata": {},
      "outputs": [],
      "source": [
        "class NeuralNetwork(nn.Module):\n",
        "    def __init__(self):\n",
        "        super().__init__()\n",
        "        self.linear_relu_stack = nn.Sequential(\n",
        "            nn.Linear(db.max_len, 1024),\n",
        "            nn.ReLU(),\n",
        "            nn.Linear(1024, 512),\n",
        "            nn.ReLU(),\n",
        "            nn.Linear(512, 256),\n",
        "            nn.ReLU(),\n",
        "            nn.Linear(256, len(target_classes)),\n",
        "        )\n",
        "\n",
        "    def forward(self, x):\n",
        "        logits = self.linear_relu_stack(x)\n",
        "        return logits\n",
        "    \n",
        "def count_parameters(model):\n",
        "    return sum(p.numel() for p in model.parameters() if p.requires_grad)"
      ]
    },
    {
      "attachments": {},
      "cell_type": "markdown",
      "metadata": {},
      "source": [
        "## Training and Testing"
      ]
    },
    {
      "cell_type": "code",
      "execution_count": 327,
      "metadata": {
        "collapsed": false
      },
      "outputs": [],
      "source": [
        "def train(model, epoch, log_interval):\n",
        "    model.train()\n",
        "    for batch_idx, (data, target, *_) in enumerate(train_loader):\n",
        "        data = data.to(device)\n",
        "        target = target.to(device)\n",
        "\n",
        "        output = model(data)\n",
        "\n",
        "        # negative log-likelihood for a tensor of size (batch x 1 x n_output)\n",
        "        # loss = F.nll_loss(output.squeeze(), target)\n",
        "        loss = F.cross_entropy(output.squeeze(), target)\n",
        "\n",
        "        optimizer.zero_grad()\n",
        "        loss.backward()\n",
        "        optimizer.step()\n",
        "\n",
        "        # print training stats\n",
        "        if batch_idx % log_interval == 0:\n",
        "            print(f\"Train Epoch: {epoch}\\t[{(batch_idx * len(data)):5.0f}/{len(train_loader.dataset)} ({100. * batch_idx / len(train_loader):3.0f}%)]\\tLoss: {loss.item():.4f}\")\n",
        "\n",
        "        # update progress bar\n",
        "        pbar.update(pbar_update)\n",
        "        # record loss\n",
        "        losses.append(loss.item())"
      ]
    },
    {
      "cell_type": "code",
      "execution_count": 328,
      "metadata": {
        "collapsed": false
      },
      "outputs": [],
      "source": [
        "def number_of_correct(pred, target):\n",
        "    # count number of correct predictions\n",
        "    return pred.squeeze().eq(target).sum().item()\n",
        "\n",
        "\n",
        "def get_likely_index(tensor):\n",
        "    # find most likely label index for each element in the batch\n",
        "    return tensor.argmax(dim=-1)\n",
        "\n",
        "\n",
        "def test(model, epoch):\n",
        "    model.eval()\n",
        "    correct = 0\n",
        "    for data, target in test_loader:\n",
        "        data = data.to(device)\n",
        "        target = target.to(device)\n",
        "  \n",
        "        output = model(data)\n",
        "\n",
        "        pred = get_likely_index(output)\n",
        "        correct += number_of_correct(pred, target)\n",
        "\n",
        "        # update progress bar\n",
        "        pbar.update(pbar_update)\n",
        "\n",
        "    accuracy = 100. * correct / len(test_loader.dataset)\n",
        "    print(f\" Test Epoch: {epoch}\\tAccuracy: {correct}/{len(test_loader.dataset)} ({accuracy:.0f}%)\\n\")\n",
        "    return accuracy"
      ]
    },
    {
      "cell_type": "code",
      "execution_count": 344,
      "metadata": {
        "collapsed": false
      },
      "outputs": [
        {
          "data": {
            "application/vnd.jupyter.widget-view+json": {
              "model_id": "8e9035814a124552919815a41423ac3e",
              "version_major": 2,
              "version_minor": 0
            },
            "text/plain": [
              "0.00%|          | 0.00/40 [00:00<?]"
            ]
          },
          "metadata": {},
          "output_type": "display_data"
        },
        {
          "name": "stderr",
          "output_type": "stream",
          "text": [
            "C:\\Users\\ioci\\AppData\\Local\\Temp\\ipykernel_6364\\465534958.py:9: UserWarning: To copy construct from a tensor, it is recommended to use sourceTensor.clone().detach() or sourceTensor.clone().detach().requires_grad_(True), rather than torch.tensor(sourceTensor).\n",
            "  return torch.tensor(padded, dtype=torch.float32), torch.tensor(Y)\n"
          ]
        },
        {
          "name": "stdout",
          "output_type": "stream",
          "text": [
            "Train Epoch: 1\t[    0/101 (  0%)]\tLoss: 714.6589\n",
            " Test Epoch: 1\tAccuracy: 9/43 (21%)\n",
            "\n",
            "Train Epoch: 2\t[    0/101 (  0%)]\tLoss: 167.6570\n",
            " Test Epoch: 2\tAccuracy: 18/43 (42%)\n",
            "\n",
            "Train Epoch: 3\t[    0/101 (  0%)]\tLoss: 54.9248\n",
            " Test Epoch: 3\tAccuracy: 24/43 (56%)\n",
            "\n",
            "Train Epoch: 4\t[    0/101 (  0%)]\tLoss: 18.0340\n",
            " Test Epoch: 4\tAccuracy: 23/43 (53%)\n",
            "\n",
            "Train Epoch: 5\t[    0/101 (  0%)]\tLoss: 4.0832\n",
            " Test Epoch: 5\tAccuracy: 19/43 (44%)\n",
            "\n",
            "Train Epoch: 6\t[    0/101 (  0%)]\tLoss: 12.1364\n",
            " Test Epoch: 6\tAccuracy: 20/43 (47%)\n",
            "\n",
            "Train Epoch: 7\t[    0/101 (  0%)]\tLoss: 11.6610\n",
            " Test Epoch: 7\tAccuracy: 22/43 (51%)\n",
            "\n",
            "Train Epoch: 8\t[    0/101 (  0%)]\tLoss: 10.0755\n",
            " Test Epoch: 8\tAccuracy: 18/43 (42%)\n",
            "\n",
            "Train Epoch: 9\t[    0/101 (  0%)]\tLoss: 5.1481\n",
            " Test Epoch: 9\tAccuracy: 20/43 (47%)\n",
            "\n",
            "Train Epoch: 10\t[    0/101 (  0%)]\tLoss: 4.2139\n",
            " Test Epoch: 10\tAccuracy: 22/43 (51%)\n",
            "\n",
            "Train Epoch: 11\t[    0/101 (  0%)]\tLoss: 11.5833\n",
            " Test Epoch: 11\tAccuracy: 18/43 (42%)\n",
            "\n",
            "Train Epoch: 12\t[    0/101 (  0%)]\tLoss: 3.9572\n",
            " Test Epoch: 12\tAccuracy: 19/43 (44%)\n",
            "\n",
            "Train Epoch: 13\t[    0/101 (  0%)]\tLoss: 0.0705\n",
            " Test Epoch: 13\tAccuracy: 20/43 (47%)\n",
            "\n",
            "Train Epoch: 14\t[    0/101 (  0%)]\tLoss: 2.1729\n",
            " Test Epoch: 14\tAccuracy: 19/43 (44%)\n",
            "\n",
            "Train Epoch: 15\t[    0/101 (  0%)]\tLoss: 0.5648\n",
            " Test Epoch: 15\tAccuracy: 19/43 (44%)\n",
            "\n",
            "Train Epoch: 16\t[    0/101 (  0%)]\tLoss: 1.8675\n",
            " Test Epoch: 16\tAccuracy: 19/43 (44%)\n",
            "\n",
            "Train Epoch: 17\t[    0/101 (  0%)]\tLoss: 2.4441\n",
            " Test Epoch: 17\tAccuracy: 20/43 (47%)\n",
            "\n",
            "Train Epoch: 18\t[    0/101 (  0%)]\tLoss: 0.6774\n",
            " Test Epoch: 18\tAccuracy: 20/43 (47%)\n",
            "\n",
            "Train Epoch: 19\t[    0/101 (  0%)]\tLoss: 6.4698\n",
            " Test Epoch: 19\tAccuracy: 20/43 (47%)\n",
            "\n",
            "Train Epoch: 20\t[    0/101 (  0%)]\tLoss: 0.2733\n",
            " Test Epoch: 20\tAccuracy: 20/43 (47%)\n",
            "\n",
            "Train Epoch: 21\t[    0/101 (  0%)]\tLoss: 1.3984\n",
            " Test Epoch: 21\tAccuracy: 19/43 (44%)\n",
            "\n",
            "Train Epoch: 22\t[    0/101 (  0%)]\tLoss: 2.1973\n",
            " Test Epoch: 22\tAccuracy: 19/43 (44%)\n",
            "\n",
            "Train Epoch: 23\t[    0/101 (  0%)]\tLoss: 0.7738\n",
            " Test Epoch: 23\tAccuracy: 20/43 (47%)\n",
            "\n",
            "Train Epoch: 24\t[    0/101 (  0%)]\tLoss: 6.0511\n",
            " Test Epoch: 24\tAccuracy: 19/43 (44%)\n",
            "\n",
            "Train Epoch: 25\t[    0/101 (  0%)]\tLoss: 3.2448\n",
            " Test Epoch: 25\tAccuracy: 19/43 (44%)\n",
            "\n",
            "Train Epoch: 26\t[    0/101 (  0%)]\tLoss: 0.1969\n",
            " Test Epoch: 26\tAccuracy: 19/43 (44%)\n",
            "\n",
            "Train Epoch: 27\t[    0/101 (  0%)]\tLoss: 6.7155\n",
            " Test Epoch: 27\tAccuracy: 20/43 (47%)\n",
            "\n",
            "Train Epoch: 28\t[    0/101 (  0%)]\tLoss: 1.7062\n",
            " Test Epoch: 28\tAccuracy: 20/43 (47%)\n",
            "\n",
            "Train Epoch: 29\t[    0/101 (  0%)]\tLoss: 4.3013\n",
            " Test Epoch: 29\tAccuracy: 20/43 (47%)\n",
            "\n",
            "Train Epoch: 30\t[    0/101 (  0%)]\tLoss: 0.0873\n",
            " Test Epoch: 30\tAccuracy: 20/43 (47%)\n",
            "\n",
            "Train Epoch: 31\t[    0/101 (  0%)]\tLoss: 2.1154\n",
            " Test Epoch: 31\tAccuracy: 20/43 (47%)\n",
            "\n",
            "Train Epoch: 32\t[    0/101 (  0%)]\tLoss: 1.6151\n",
            " Test Epoch: 32\tAccuracy: 20/43 (47%)\n",
            "\n",
            "Train Epoch: 33\t[    0/101 (  0%)]\tLoss: 0.2740\n",
            " Test Epoch: 33\tAccuracy: 20/43 (47%)\n",
            "\n",
            "Train Epoch: 34\t[    0/101 (  0%)]\tLoss: 2.1213\n",
            " Test Epoch: 34\tAccuracy: 20/43 (47%)\n",
            "\n",
            "Train Epoch: 35\t[    0/101 (  0%)]\tLoss: 2.5884\n",
            " Test Epoch: 35\tAccuracy: 20/43 (47%)\n",
            "\n",
            "Train Epoch: 36\t[    0/101 (  0%)]\tLoss: 2.1169\n",
            " Test Epoch: 36\tAccuracy: 20/43 (47%)\n",
            "\n",
            "Train Epoch: 37\t[    0/101 (  0%)]\tLoss: 0.0205\n",
            " Test Epoch: 37\tAccuracy: 20/43 (47%)\n",
            "\n",
            "Train Epoch: 38\t[    0/101 (  0%)]\tLoss: 1.3468\n",
            " Test Epoch: 38\tAccuracy: 20/43 (47%)\n",
            "\n",
            "Train Epoch: 39\t[    0/101 (  0%)]\tLoss: 2.1191\n",
            " Test Epoch: 39\tAccuracy: 20/43 (47%)\n",
            "\n",
            "Train Epoch: 40\t[    0/101 (  0%)]\tLoss: 0.1797\n",
            " Test Epoch: 40\tAccuracy: 20/43 (47%)\n",
            "\n"
          ]
        }
      ],
      "source": [
        "log_interval = 20\n",
        "n_epoch = 40\n",
        "\n",
        "pbar_update = 1 / (len(train_loader) + len(test_loader))\n",
        "losses = []\n",
        "accuracies = []\n",
        "\n",
        "model = NeuralNetwork()\n",
        "model.to(device)\n",
        "\n",
        "optimizer = optim.Adam(model.parameters(), lr=0.00001, weight_decay=0.0001)\n",
        "scheduler = optim.lr_scheduler.StepLR(optimizer, step_size=10, gamma=0.2)  # reduce the learning after 4 epochs by a factor of 10\n",
        "\n",
        "with tqdm(total=n_epoch, \n",
        "          bar_format = \"{desc}: {percentage:.2f}%|{bar}| {n:.2f}/{total_fmt} [{elapsed}<{remaining}]\",\n",
        "          colour = 'GREEN',\n",
        "          ) as pbar:\n",
        "    for epoch in range(1, n_epoch + 1):\n",
        "        train(model, epoch, log_interval)\n",
        "        accuracy_step = test(model, epoch)\n",
        "        accuracies.append(accuracy_step)\n",
        "        scheduler.step()\n"
      ]
    },
    {
      "cell_type": "code",
      "execution_count": 345,
      "metadata": {},
      "outputs": [
        {
          "data": {
            "text/plain": [
              "Text(0.5, 1.0, 'training loss')"
            ]
          },
          "execution_count": 345,
          "metadata": {},
          "output_type": "execute_result"
        },
        {
          "data": {
            "image/png": "[encoded data removed]",
            "text/plain": [
              "<Figure size 640x480 with 1 Axes>"
            ]
          },
          "metadata": {},
          "output_type": "display_data"
        }
      ],
      "source": [
        "plt.plot(losses)\n",
        "plt.xlabel('batch')\n",
        "plt.ylabel('loss')\n",
        "plt.title(\"training loss\")"
      ]
    },
    {
      "cell_type": "code",
      "execution_count": 346,
      "metadata": {},
      "outputs": [
        {
          "data": {
            "text/plain": [
              "Text(0.5, 1.0, 'training accuracy')"
            ]
          },
          "execution_count": 346,
          "metadata": {},
          "output_type": "execute_result"
        },
        {
          "data": {
            "image/png": "[encoded data removed]",
            "text/plain": [
              "<Figure size 640x480 with 1 Axes>"
            ]
          },
          "metadata": {},
          "output_type": "display_data"
        }
      ],
      "source": [
        "ax = plt.plot(accuracies)\n",
        "\n",
        "plt.ylim(0, 100)\n",
        "plt.xlabel('epoch')\n",
        "plt.ylabel('accuracy')\n",
        "plt.xticks(range(0, len(accuracies)+1, 5))\n",
        "plt.title(\"training accuracy\")"
      ]
    },
    {
      "cell_type": "code",
      "execution_count": 347,
      "metadata": {},
      "outputs": [
        {
          "name": "stdout",
          "output_type": "stream",
          "text": [
            "682499\n"
          ]
        }
      ],
      "source": [
        "print(count_parameters(model))"
      ]
    },
    {
      "cell_type": "code",
      "execution_count": 348,
      "metadata": {},
      "outputs": [
        {
          "name": "stderr",
          "output_type": "stream",
          "text": [
            "C:\\Users\\ioci\\AppData\\Local\\Temp\\ipykernel_6364\\465534958.py:9: UserWarning: To copy construct from a tensor, it is recommended to use sourceTensor.clone().detach() or sourceTensor.clone().detach().requires_grad_(True), rather than torch.tensor(sourceTensor).\n",
            "  return torch.tensor(padded, dtype=torch.float32), torch.tensor(Y)\n"
          ]
        },
        {
          "data": {
            "image/png": "[encoded data removed]",
            "text/plain": [
              "<Figure size 500x500 with 2 Axes>"
            ]
          },
          "metadata": {},
          "output_type": "display_data"
        }
      ],
      "source": [
        "target_classes = {0:\"bad\", 1:\"neutral\", 2:\"good\"}\n",
        "\n",
        "def print_results(Y_actual, Y_preds, target_names):\n",
        "    from sklearn.metrics import confusion_matrix\n",
        "    import scikitplot as skplt\n",
        "    import matplotlib.pyplot as plt\n",
        "    import numpy as np\n",
        "\n",
        "    skplt.metrics.plot_confusion_matrix([target_classes[i] for i in Y_actual], [target_classes[i] for i in Y_preds],\n",
        "                                        normalize=True,\n",
        "                                        title=\"Confusion Matrix\",\n",
        "                                        cmap=\"Purples\",\n",
        "                                        hide_zeros=True,\n",
        "                                        figsize=(5,5)\n",
        "                                        )\n",
        "    plt.xticks(rotation=90)\n",
        "\n",
        "def make_predictions(model):\n",
        "    Y_shuffled, Y_preds = [], []\n",
        "\n",
        "    model.eval()\n",
        "    correct = 0\n",
        "\n",
        "    with torch.no_grad():\n",
        "       for data, target in test_loader:\n",
        "        data = data.to(device)\n",
        "        target = target.to(device)\n",
        "  \n",
        "        predicted_label = model(data)\n",
        "\n",
        "        Y_preds.append(predicted_label)\n",
        "        Y_shuffled.append(target)\n",
        "            \n",
        "    Y_preds, Y_shuffled = torch.cat(Y_preds), torch.cat(Y_shuffled)\n",
        "\n",
        "    return Y_shuffled.detach().cpu().numpy(), F.softmax(Y_preds, dim=-1).argmax(dim=-1).detach().cpu().numpy()\n",
        "\n",
        "\n",
        "Y_actual, Y_preds = make_predictions(model)\n",
        "print_results(Y_actual, Y_preds, target_classes)"
      ]
    }
  ],
  "metadata": {
    "kernelspec": {
      "display_name": "Python 3",
      "language": "python",
      "name": "python3"
    },
    "language_info": {
      "codemirror_mode": {
        "name": "ipython",
        "version": 3
      },
      "file_extension": ".py",
      "mimetype": "text/x-python",
      "name": "python",
      "nbconvert_exporter": "python",
      "pygments_lexer": "ipython3",
      "version": "3.9.16"
    }
  },
  "nbformat": 4,
  "nbformat_minor": 0
}
