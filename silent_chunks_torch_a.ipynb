{
  "cells": [
    {
      "cell_type": "code",
      "execution_count": 44,
      "metadata": {
        "collapsed": false
      },
      "outputs": [],
      "source": [
        "%matplotlib inline"
      ]
    },
    {
      "cell_type": "code",
      "execution_count": 45,
      "metadata": {
        "collapsed": false
      },
      "outputs": [],
      "source": [
        "import torch\n",
        "import torch.nn as nn\n",
        "import torch.nn.functional as F\n",
        "import torch.optim as optim\n",
        "\n",
        "import pandas as pd\n",
        "import numpy as np\n",
        "\n",
        "import matplotlib.pyplot as plt\n",
        "from matplotlib.ticker import MaxNLocator\n",
        "\n",
        "from tqdm.auto import tqdm\n",
        "\n",
        "from pydub import AudioSegment\n",
        "from pydub.silence import detect_nonsilent, detect_silence\n",
        "from pydub.silence import split_on_silence\n",
        "import numpy as np\n",
        "import ffmpeg\n",
        "import itertools\n",
        "\n",
        "from os import listdir\n",
        "from os.path import isfile, join"
      ]
    },
    {
      "cell_type": "code",
      "execution_count": 46,
      "metadata": {},
      "outputs": [
        {
          "name": "stdout",
          "output_type": "stream",
          "text": [
            "cuda\n"
          ]
        }
      ],
      "source": [
        "device = torch.device(\"cuda\" if torch.cuda.is_available() else \"cpu\")\n",
        "print(device)\n"
      ]
    },
    {
      "cell_type": "code",
      "execution_count": 47,
      "metadata": {},
      "outputs": [],
      "source": [
        "# def match_target_amplitude(sound, target_dBFS):\n",
        "#     change_in_dBFS = target_dBFS - sound.dBFS\n",
        "#     return sound.apply_gain(change_in_dBFS)\n",
        "\n",
        "# with open(\"./records/_records.txt\") as f:\n",
        "#     contents = f.readlines()\n",
        "# onlyfiles = [f for f in listdir(\"./records/\") if isfile(join(\"./records/\", f))]\n",
        "# onlyfiles = list(filter(lambda x: \".wav\" in x, onlyfiles))\n",
        "\n",
        "# data = []\n",
        "\n",
        "# for file in onlyfiles:\n",
        "#     name = file[:file.rfind(\".\")]\n",
        "#     audio_segment = AudioSegment.from_wav(\"./records/\" + name + \".wav\")\n",
        "#     normalized_sound = match_target_amplitude(audio_segment, -20.0)\n",
        "#     audio_chunks = detect_silence(normalized_sound, min_silence_len=300, silence_thresh=-30, seek_step=1)\n",
        "#     chained_chunks = list(itertools.chain(*audio_chunks))\n",
        "\n",
        "#     res = list(filter(lambda x: name in x, contents))[0]\n",
        "#     mood = 0\n",
        "#     if \"bad\" in res:\n",
        "#         mood = 0\n",
        "#     if \"neutral\" in res:\n",
        "#         mood = 1\n",
        "#     if \"good\" in res:\n",
        "#         mood = 2\n",
        "#     data.append((mood, name + \".wav\", chained_chunks))\n",
        "\n",
        "# print(data)\n",
        "# pd.DataFrame(data).to_csv(\"./chunks/chunks.csv\")"
      ]
    },
    {
      "cell_type": "code",
      "execution_count": 48,
      "metadata": {},
      "outputs": [
        {
          "data": {
            "text/plain": [
              "144"
            ]
          },
          "execution_count": 48,
          "metadata": {},
          "output_type": "execute_result"
        }
      ],
      "source": [
        "from ast import literal_eval\n",
        "\n",
        "file_name = './chunks/chunks.csv'\n",
        "df = pd.read_csv(file_name)\n",
        "df = df.drop('file_name', axis=1)\n",
        "df = df.drop('drop_id', axis=1)\n",
        "df['chunks'].replace('[]', np.nan, inplace=True)\n",
        "df.dropna(subset=['chunks'], inplace=True)\n",
        "df.chunks = df.chunks.apply(literal_eval)\n",
        "df.reset_index(drop=True, inplace=True)\n",
        "\n",
        "df.shape[0]"
      ]
    },
    {
      "cell_type": "code",
      "execution_count": 49,
      "metadata": {},
      "outputs": [],
      "source": [
        "from torch.utils.data import Dataset\n",
        "\n",
        "class transcription_dataset(Dataset):\n",
        " \n",
        "  def __init__(self,file_name):\n",
        "    file_name = './chunks/chunks.csv'\n",
        "    df = pd.read_csv(file_name)\n",
        "    df = df.drop('file_name', axis=1)\n",
        "    df = df.drop('drop_id', axis=1)\n",
        "    df['chunks'].replace('[]', np.nan, inplace=True)\n",
        "    df.dropna(subset=['chunks'], inplace=True)\n",
        "    df.chunks = df.chunks.apply(literal_eval)\n",
        "    df.reset_index(drop=True, inplace=True)\n",
        "\n",
        "    audio_max_length = 15000\n",
        "    x = df.label.values\n",
        "    y = df.iloc[:,1].values\n",
        "    \n",
        "    self.x_train = x\n",
        "    self.y_train = y\n",
        "    self.max_len = len(max(y, key=len))\n",
        " \n",
        "  def __len__(self):\n",
        "    return len(self.y_train)\n",
        "   \n",
        "  def __getitem__(self,idx):\n",
        "    return self.x_train[idx], self.y_train[idx]"
      ]
    },
    {
      "cell_type": "code",
      "execution_count": 50,
      "metadata": {},
      "outputs": [],
      "source": [
        "db = transcription_dataset('./chunks/chunks.csv')"
      ]
    },
    {
      "cell_type": "code",
      "execution_count": 51,
      "metadata": {},
      "outputs": [],
      "source": [
        "train_set, test_set = torch.utils.data.random_split(db, [0.7, 0.3])"
      ]
    },
    {
      "cell_type": "code",
      "execution_count": 52,
      "metadata": {},
      "outputs": [],
      "source": [
        "train_dataset, test_dataset  = train_set, test_set\n",
        "target_classes = [\"bad\", \"neutral\", \"good\"]"
      ]
    },
    {
      "cell_type": "code",
      "execution_count": 53,
      "metadata": {},
      "outputs": [
        {
          "data": {
            "text/plain": [
              "(1, [0, 4431, 6318, 8527, 8787, 9154, 12973, 13470, 13780, 15120])"
            ]
          },
          "execution_count": 53,
          "metadata": {},
          "output_type": "execute_result"
        }
      ],
      "source": [
        "train_dataset[3]"
      ]
    },
    {
      "cell_type": "code",
      "execution_count": 54,
      "metadata": {},
      "outputs": [],
      "source": [
        "from torch.utils.data import DataLoader\n",
        "from torch.nn.utils.rnn import pad_sequence\n",
        "\n",
        "def collate_fn_padd(batch):\n",
        "    Y, X = list(zip(*batch))\n",
        "    X = list(X)\n",
        "    padded = torch.tensor([row + [0] * (db.max_len - len(row)) for row in X])\n",
        "    \n",
        "    return torch.tensor(padded, dtype=torch.float32), torch.tensor(Y)\n",
        "\n",
        "batch_size = 8\n",
        "train_loader = DataLoader(train_dataset, batch_size=batch_size, collate_fn=collate_fn_padd, shuffle=True)\n",
        "test_loader  = DataLoader(test_dataset , batch_size=batch_size, collate_fn=collate_fn_padd)"
      ]
    },
    {
      "attachments": {},
      "cell_type": "markdown",
      "metadata": {},
      "source": [
        "## Model"
      ]
    },
    {
      "cell_type": "code",
      "execution_count": 55,
      "metadata": {},
      "outputs": [],
      "source": [
        "class silent_gap_nn(nn.Module):\n",
        "    def __init__(self):\n",
        "        super().__init__()\n",
        "        self.linear_relu_stack = nn.Sequential(\n",
        "            nn.Linear(db.max_len, 768),\n",
        "            nn.ReLU(),\n",
        "            nn.Linear(768, 512),\n",
        "            nn.ReLU(),\n",
        "            nn.Linear(512, 256),\n",
        "            nn.ReLU(),\n",
        "            nn.Linear(256, len(target_classes)),\n",
        "        )\n",
        "\n",
        "    def forward(self, x):\n",
        "        logits = self.linear_relu_stack(x)\n",
        "        return logits\n",
        "    \n",
        "def count_parameters(model):\n",
        "    return sum(p.numel() for p in model.parameters() if p.requires_grad)"
      ]
    },
    {
      "attachments": {},
      "cell_type": "markdown",
      "metadata": {},
      "source": [
        "## Training and Testing"
      ]
    },
    {
      "cell_type": "code",
      "execution_count": 56,
      "metadata": {
        "collapsed": false
      },
      "outputs": [],
      "source": [
        "def train(model, epoch, log_interval):\n",
        "    model.train()\n",
        "    for batch_idx, (data, target, *_) in enumerate(train_loader):\n",
        "        data = data.to(device)\n",
        "        target = target.to(device)\n",
        "\n",
        "        output = model(data)\n",
        "\n",
        "        # negative log-likelihood for a tensor of size (batch x 1 x n_output)\n",
        "        # loss = F.nll_loss(output.squeeze(), target)\n",
        "        loss = F.cross_entropy(output.squeeze(), target)\n",
        "\n",
        "        optimizer.zero_grad()\n",
        "        loss.backward()\n",
        "        optimizer.step()\n",
        "\n",
        "        # print training stats\n",
        "        if batch_idx % log_interval == 0:\n",
        "            print(f\"Train Epoch: {epoch}\\t[{(batch_idx * len(data)):5.0f}/{len(train_loader.dataset)} ({100. * batch_idx / len(train_loader):3.0f}%)]\\tLoss: {loss.item():.4f}\")\n",
        "\n",
        "        # update progress bar\n",
        "        pbar.update(pbar_update)\n",
        "        # record loss\n",
        "        losses.append(loss.item())"
      ]
    },
    {
      "cell_type": "code",
      "execution_count": 57,
      "metadata": {
        "collapsed": false
      },
      "outputs": [],
      "source": [
        "def number_of_correct(pred, target):\n",
        "    # count number of correct predictions\n",
        "    return pred.squeeze().eq(target).sum().item()\n",
        "\n",
        "\n",
        "def get_likely_index(tensor):\n",
        "    # find most likely label index for each element in the batch\n",
        "    return tensor.argmax(dim=-1)\n",
        "\n",
        "\n",
        "def test(model, epoch):\n",
        "    model.eval()\n",
        "    correct = 0\n",
        "    for data, target in test_loader:\n",
        "        data = data.to(device)\n",
        "        target = target.to(device)\n",
        "  \n",
        "        output = model(data)\n",
        "\n",
        "        pred = get_likely_index(output)\n",
        "        correct += number_of_correct(pred, target)\n",
        "\n",
        "        # update progress bar\n",
        "        pbar.update(pbar_update)\n",
        "\n",
        "    accuracy = 100. * correct / len(test_loader.dataset)\n",
        "    print(f\" Test Epoch: {epoch}\\tAccuracy: {correct}/{len(test_loader.dataset)} ({accuracy:.0f}%)\\n\")\n",
        "    return accuracy"
      ]
    },
    {
      "cell_type": "code",
      "execution_count": 58,
      "metadata": {
        "collapsed": false
      },
      "outputs": [
        {
          "data": {
            "application/vnd.jupyter.widget-view+json": {
              "model_id": "0bb73c75d55e450ab1eeee3fff55e515",
              "version_major": 2,
              "version_minor": 0
            },
            "text/plain": [
              "0.00%|          | 0.00/40 [00:00<?]"
            ]
          },
          "metadata": {},
          "output_type": "display_data"
        },
        {
          "name": "stderr",
          "output_type": "stream",
          "text": [
            "C:\\Users\\ioci\\AppData\\Local\\Temp\\ipykernel_17988\\465534958.py:9: UserWarning: To copy construct from a tensor, it is recommended to use sourceTensor.clone().detach() or sourceTensor.clone().detach().requires_grad_(True), rather than torch.tensor(sourceTensor).\n",
            "  return torch.tensor(padded, dtype=torch.float32), torch.tensor(Y)\n"
          ]
        },
        {
          "name": "stdout",
          "output_type": "stream",
          "text": [
            "Train Epoch: 1\t[    0/101 (  0%)]\tLoss: 413.9416\n",
            " Test Epoch: 1\tAccuracy: 20/43 (47%)\n",
            "\n",
            "Train Epoch: 2\t[    0/101 (  0%)]\tLoss: 28.0993\n",
            " Test Epoch: 2\tAccuracy: 19/43 (44%)\n",
            "\n",
            "Train Epoch: 3\t[    0/101 (  0%)]\tLoss: 46.2963\n",
            " Test Epoch: 3\tAccuracy: 20/43 (47%)\n",
            "\n",
            "Train Epoch: 4\t[    0/101 (  0%)]\tLoss: 22.6308\n",
            " Test Epoch: 4\tAccuracy: 19/43 (44%)\n",
            "\n",
            "Train Epoch: 5\t[    0/101 (  0%)]\tLoss: 27.4735\n",
            " Test Epoch: 5\tAccuracy: 19/43 (44%)\n",
            "\n",
            "Train Epoch: 6\t[    0/101 (  0%)]\tLoss: 12.0886\n",
            " Test Epoch: 6\tAccuracy: 18/43 (42%)\n",
            "\n",
            "Train Epoch: 7\t[    0/101 (  0%)]\tLoss: 18.6260\n",
            " Test Epoch: 7\tAccuracy: 18/43 (42%)\n",
            "\n",
            "Train Epoch: 8\t[    0/101 (  0%)]\tLoss: 14.3487\n",
            " Test Epoch: 8\tAccuracy: 18/43 (42%)\n",
            "\n",
            "Train Epoch: 9\t[    0/101 (  0%)]\tLoss: 11.0532\n",
            " Test Epoch: 9\tAccuracy: 22/43 (51%)\n",
            "\n",
            "Train Epoch: 10\t[    0/101 (  0%)]\tLoss: 2.2077\n",
            " Test Epoch: 10\tAccuracy: 20/43 (47%)\n",
            "\n",
            "Train Epoch: 11\t[    0/101 (  0%)]\tLoss: 0.3082\n",
            " Test Epoch: 11\tAccuracy: 22/43 (51%)\n",
            "\n",
            "Train Epoch: 12\t[    0/101 (  0%)]\tLoss: 8.3834\n",
            " Test Epoch: 12\tAccuracy: 22/43 (51%)\n",
            "\n",
            "Train Epoch: 13\t[    0/101 (  0%)]\tLoss: 0.7346\n",
            " Test Epoch: 13\tAccuracy: 23/43 (53%)\n",
            "\n",
            "Train Epoch: 14\t[    0/101 (  0%)]\tLoss: 3.8452\n",
            " Test Epoch: 14\tAccuracy: 22/43 (51%)\n",
            "\n",
            "Train Epoch: 15\t[    0/101 (  0%)]\tLoss: 15.3488\n",
            " Test Epoch: 15\tAccuracy: 21/43 (49%)\n",
            "\n",
            "Train Epoch: 16\t[    0/101 (  0%)]\tLoss: 5.3279\n",
            " Test Epoch: 16\tAccuracy: 22/43 (51%)\n",
            "\n",
            "Train Epoch: 17\t[    0/101 (  0%)]\tLoss: 0.0010\n",
            " Test Epoch: 17\tAccuracy: 23/43 (53%)\n",
            "\n",
            "Train Epoch: 18\t[    0/101 (  0%)]\tLoss: 1.5830\n",
            " Test Epoch: 18\tAccuracy: 22/43 (51%)\n",
            "\n",
            "Train Epoch: 19\t[    0/101 (  0%)]\tLoss: 3.7577\n",
            " Test Epoch: 19\tAccuracy: 23/43 (53%)\n",
            "\n",
            "Train Epoch: 20\t[    0/101 (  0%)]\tLoss: 1.3015\n",
            " Test Epoch: 20\tAccuracy: 23/43 (53%)\n",
            "\n",
            "Train Epoch: 21\t[    0/101 (  0%)]\tLoss: 0.5674\n",
            " Test Epoch: 21\tAccuracy: 22/43 (51%)\n",
            "\n",
            "Train Epoch: 22\t[    0/101 (  0%)]\tLoss: 4.5566\n",
            " Test Epoch: 22\tAccuracy: 23/43 (53%)\n",
            "\n",
            "Train Epoch: 23\t[    0/101 (  0%)]\tLoss: 1.5801\n",
            " Test Epoch: 23\tAccuracy: 23/43 (53%)\n",
            "\n",
            "Train Epoch: 24\t[    0/101 (  0%)]\tLoss: 0.6227\n",
            " Test Epoch: 24\tAccuracy: 23/43 (53%)\n",
            "\n",
            "Train Epoch: 25\t[    0/101 (  0%)]\tLoss: 2.1810\n",
            " Test Epoch: 25\tAccuracy: 23/43 (53%)\n",
            "\n",
            "Train Epoch: 26\t[    0/101 (  0%)]\tLoss: 1.1078\n",
            " Test Epoch: 26\tAccuracy: 23/43 (53%)\n",
            "\n",
            "Train Epoch: 27\t[    0/101 (  0%)]\tLoss: 0.0002\n",
            " Test Epoch: 27\tAccuracy: 23/43 (53%)\n",
            "\n",
            "Train Epoch: 28\t[    0/101 (  0%)]\tLoss: 0.0424\n",
            " Test Epoch: 28\tAccuracy: 23/43 (53%)\n",
            "\n",
            "Train Epoch: 29\t[    0/101 (  0%)]\tLoss: 0.0207\n",
            " Test Epoch: 29\tAccuracy: 22/43 (51%)\n",
            "\n",
            "Train Epoch: 30\t[    0/101 (  0%)]\tLoss: 0.3959\n",
            " Test Epoch: 30\tAccuracy: 22/43 (51%)\n",
            "\n",
            "Train Epoch: 31\t[    0/101 (  0%)]\tLoss: 0.0004\n",
            " Test Epoch: 31\tAccuracy: 22/43 (51%)\n",
            "\n",
            "Train Epoch: 32\t[    0/101 (  0%)]\tLoss: 1.4117\n",
            " Test Epoch: 32\tAccuracy: 23/43 (53%)\n",
            "\n",
            "Train Epoch: 33\t[    0/101 (  0%)]\tLoss: 0.2699\n",
            " Test Epoch: 33\tAccuracy: 22/43 (51%)\n",
            "\n",
            "Train Epoch: 34\t[    0/101 (  0%)]\tLoss: 0.0334\n",
            " Test Epoch: 34\tAccuracy: 22/43 (51%)\n",
            "\n",
            "Train Epoch: 35\t[    0/101 (  0%)]\tLoss: 0.0049\n",
            " Test Epoch: 35\tAccuracy: 23/43 (53%)\n",
            "\n",
            "Train Epoch: 36\t[    0/101 (  0%)]\tLoss: 1.2393\n",
            " Test Epoch: 36\tAccuracy: 22/43 (51%)\n",
            "\n",
            "Train Epoch: 37\t[    0/101 (  0%)]\tLoss: 3.3851\n",
            " Test Epoch: 37\tAccuracy: 22/43 (51%)\n",
            "\n",
            "Train Epoch: 38\t[    0/101 (  0%)]\tLoss: 0.0000\n",
            " Test Epoch: 38\tAccuracy: 23/43 (53%)\n",
            "\n",
            "Train Epoch: 39\t[    0/101 (  0%)]\tLoss: 0.0118\n",
            " Test Epoch: 39\tAccuracy: 22/43 (51%)\n",
            "\n",
            "Train Epoch: 40\t[    0/101 (  0%)]\tLoss: 0.0135\n",
            " Test Epoch: 40\tAccuracy: 22/43 (51%)\n",
            "\n"
          ]
        }
      ],
      "source": [
        "log_interval = 20\n",
        "n_epoch = 40\n",
        "learning_rate = 0.00001\n",
        "\n",
        "pbar_update = 1 / (len(train_loader) + len(test_loader))\n",
        "losses = []\n",
        "accuracies = []\n",
        "\n",
        "model = silent_gap_nn()\n",
        "model.to(device)\n",
        "\n",
        "optimizer = optim.Adam(model.parameters(), lr=learning_rate, weight_decay=0.0001)\n",
        "scheduler = optim.lr_scheduler.StepLR(optimizer, step_size=15, gamma=0.2)  # reduce the learning after 4 epochs by a factor of 10\n",
        "\n",
        "with tqdm(total=n_epoch, \n",
        "          bar_format = \"{desc}: {percentage:.2f}%|{bar}| {n:.2f}/{total_fmt} [{elapsed}<{remaining}]\",\n",
        "          colour = 'GREEN',\n",
        "          ) as pbar:\n",
        "    for epoch in range(1, n_epoch + 1):\n",
        "        train(model, epoch, log_interval)\n",
        "        accuracy_step = test(model, epoch)\n",
        "        accuracies.append(accuracy_step)\n",
        "        scheduler.step()\n"
      ]
    },
    {
      "cell_type": "code",
      "execution_count": 59,
      "metadata": {},
      "outputs": [
        {
          "data": {
            "text/plain": [
              "Text(0.5, 1.0, 'training loss')"
            ]
          },
          "execution_count": 59,
          "metadata": {},
          "output_type": "execute_result"
        },
        {
          "data": {
            "image/png": "[encoded data removed]",
            "text/plain": [
              "<Figure size 640x480 with 1 Axes>"
            ]
          },
          "metadata": {},
          "output_type": "display_data"
        }
      ],
      "source": [
        "plt.plot(losses)\n",
        "plt.xlabel('batch')\n",
        "plt.ylabel('loss')\n",
        "plt.title(\"training loss\")"
      ]
    },
    {
      "cell_type": "code",
      "execution_count": 60,
      "metadata": {},
      "outputs": [
        {
          "data": {
            "text/plain": [
              "Text(0.5, 1.0, 'validation accuracy')"
            ]
          },
          "execution_count": 60,
          "metadata": {},
          "output_type": "execute_result"
        },
        {
          "data": {
            "image/png": "[encoded data removed]",
            "text/plain": [
              "<Figure size 640x480 with 1 Axes>"
            ]
          },
          "metadata": {},
          "output_type": "display_data"
        }
      ],
      "source": [
        "ax = plt.plot(accuracies)\n",
        "\n",
        "plt.ylim(0, 100)\n",
        "plt.xlabel('epoch')\n",
        "plt.ylabel('accuracy')\n",
        "plt.xticks(range(0, len(accuracies)+1, 5))\n",
        "plt.title(\"validation accuracy\")"
      ]
    },
    {
      "cell_type": "code",
      "execution_count": 61,
      "metadata": {},
      "outputs": [
        {
          "name": "stdout",
          "output_type": "stream",
          "text": [
            "545027\n"
          ]
        }
      ],
      "source": [
        "print(count_parameters(model))"
      ]
    },
    {
      "cell_type": "code",
      "execution_count": 62,
      "metadata": {},
      "outputs": [
        {
          "name": "stdout",
          "output_type": "stream",
          "text": [
            "[1 1 0 1 1 0 1 1 1 1 0 2 1 2 2 1 1 2 0 2 1 2 1 1 1 1 2 2 0 1 1 0 1 1 0 0 1\n",
            " 1 2 0 2 2 2]\n",
            "              precision    recall  f1-score   support\n",
            "\n",
            "        good       0.25      0.22      0.24         9\n",
            "         bad       0.62      0.73      0.67        22\n",
            "     neutral       0.44      0.33      0.38        12\n",
            "\n",
            "    accuracy                           0.51        43\n",
            "   macro avg       0.44      0.43      0.43        43\n",
            "weighted avg       0.49      0.51      0.50        43\n",
            "\n"
          ]
        },
        {
          "name": "stderr",
          "output_type": "stream",
          "text": [
            "C:\\Users\\ioci\\AppData\\Local\\Temp\\ipykernel_17988\\465534958.py:9: UserWarning: To copy construct from a tensor, it is recommended to use sourceTensor.clone().detach() or sourceTensor.clone().detach().requires_grad_(True), rather than torch.tensor(sourceTensor).\n",
            "  return torch.tensor(padded, dtype=torch.float32), torch.tensor(Y)\n"
          ]
        },
        {
          "data": {
            "image/png": "[encoded data removed]",
            "text/plain": [
              "<Figure size 500x500 with 2 Axes>"
            ]
          },
          "metadata": {},
          "output_type": "display_data"
        }
      ],
      "source": [
        "target_classes = {0:\"bad\", 1:\"neutral\", 2:\"good\"}\n",
        "\n",
        "def print_results(Y_actual, Y_preds, target_names):\n",
        "    from sklearn.metrics import confusion_matrix, classification_report\n",
        "    import scikitplot as skplt\n",
        "    import matplotlib.pyplot as plt\n",
        "    \n",
        "    tcs = [\"good\", \"bad\", \"neutral\"]\n",
        "    print(classification_report(Y_actual, Y_preds, target_names=tcs))\n",
        "    skplt.metrics.plot_confusion_matrix([target_classes[i] for i in Y_actual], [target_classes[i] for i in Y_preds],\n",
        "                                        normalize=True,\n",
        "                                        title=\"Confusion Matrix\",\n",
        "                                        cmap=\"Purples\",\n",
        "                                        hide_zeros=True,\n",
        "                                        figsize=(5,5)\n",
        "                                        )\n",
        "    plt.xticks(rotation=90)\n",
        "\n",
        "def make_predictions(model):\n",
        "    Y_shuffled, Y_preds = [], []\n",
        "\n",
        "    model.eval()\n",
        "    correct = 0\n",
        "\n",
        "    with torch.no_grad():\n",
        "       for data, target in test_loader:\n",
        "        data = data.to(device)\n",
        "        target = target.to(device)\n",
        "  \n",
        "        predicted_label = model(data)\n",
        "\n",
        "        Y_preds.append(predicted_label)\n",
        "        Y_shuffled.append(target)\n",
        "            \n",
        "    Y_preds, Y_shuffled = torch.cat(Y_preds), torch.cat(Y_shuffled)\n",
        "\n",
        "    return Y_shuffled.detach().cpu().numpy(), F.softmax(Y_preds, dim=-1).argmax(dim=-1).detach().cpu().numpy()\n",
        "\n",
        "\n",
        "Y_actual, Y_preds = make_predictions(model)\n",
        "print(Y_actual)\n",
        "print_results(Y_actual, Y_preds, target_classes)"
      ]
    }
  ],
  "metadata": {
    "kernelspec": {
      "display_name": "Python 3",
      "language": "python",
      "name": "python3"
    },
    "language_info": {
      "codemirror_mode": {
        "name": "ipython",
        "version": 3
      },
      "file_extension": ".py",
      "mimetype": "text/x-python",
      "name": "python",
      "nbconvert_exporter": "python",
      "pygments_lexer": "ipython3",
      "version": "3.9.16"
    }
  },
  "nbformat": 4,
  "nbformat_minor": 0
}
